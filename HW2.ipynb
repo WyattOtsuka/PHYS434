{
 "cells": [
  {
   "cell_type": "markdown",
   "id": "024bb2f1-efee-425e-a532-ecfa264b6661",
   "metadata": {},
   "source": [
    "# 1) A little introductory brain teaser"
   ]
  },
  {
   "cell_type": "markdown",
   "id": "d8f2431e-61ab-4aa4-9e3d-0183484ba16a",
   "metadata": {},
   "source": [
    "The total number of possibilities of rolling 2 six sided dice is 36. Since the first die has 6 possibilities and the second has 6, then there are a total of 36. The only way to roll a 2 (snake eyes) is to roll 2 ones, which is only one of the 36 possible outcomes, thus giving a $\\frac{1}{36}$. Roling a 7 can be achieved by roling a 1 and a 6, a 2 and a 5, a 3 and a 4, a 4 and a 3, a 5 and a 2, or a 1 and a 6, giving 6 possible ways to roll a 7, or a probability of  $\\frac{6}{36}$, and thus a ratio of 1:6."
   ]
  },
  {
   "cell_type": "markdown",
   "id": "2c225be2-5b6d-42e4-8cad-e59e62b358fb",
   "metadata": {},
   "source": [
    "# 2) Probability of the sum of 2 six sided dice"
   ]
  },
  {
   "cell_type": "code",
   "execution_count": 39,
   "id": "b5cab82f-3882-4e06-b088-f7f914cc46b7",
   "metadata": {},
   "outputs": [],
   "source": [
    "import numpy as np\n",
    "import matplotlib\n",
    "import matplotlib.pyplot as plt"
   ]
  },
  {
   "cell_type": "code",
   "execution_count": 40,
   "id": "e114e693-6cc5-41e7-91b2-ddaa5a44d464",
   "metadata": {},
   "outputs": [],
   "source": [
    "die_prob = [1/6]*6"
   ]
  },
  {
   "cell_type": "code",
   "execution_count": 41,
   "id": "c51ea3b1-fa6f-42b2-a0be-0a2763814501",
   "metadata": {},
   "outputs": [
    {
     "data": {
      "text/plain": [
       "[0.027777777777777776,\n",
       " 0.05555555555555555,\n",
       " 0.08333333333333333,\n",
       " 0.1111111111111111,\n",
       " 0.1388888888888889,\n",
       " 0.16666666666666669,\n",
       " 0.1388888888888889,\n",
       " 0.1111111111111111,\n",
       " 0.08333333333333333,\n",
       " 0.05555555555555555,\n",
       " 0.027777777777777776]"
      ]
     },
     "execution_count": 41,
     "metadata": {},
     "output_type": "execute_result"
    }
   ],
   "source": [
    "# Mathematical approach\n",
    "convolved_data = np.convolve(die_prob, die_prob, mode = \"full\").tolist()"
   ]
  },
  {
   "cell_type": "markdown",
   "id": "58dd75f9-a6c2-407b-a3f2-957200df3420",
   "metadata": {},
   "source": [
    "Ways to roll:\n",
    "<br />2 (1): 1 and 1\n",
    "<br />3 (2): 1 and 2, 2 and 1\n",
    "<br />4 (3): 1 and 3, 2 and 2, 3 and 1\n",
    "<br />5 (4): 1 and 4, 2 and 3, 3 and 2, 4 and 1\n",
    "<br />6 (5): 1 and 5, 2 and 4, 3 and 3, 4 and 2, 5 and 1\n",
    "<br />7 (6): 1 and 6, 2 and 5, 3 and 4, 4 and 3, 5 and 2, 6 and 1\n",
    "<br />8 (5): 2 and 6, 3 and 5, 4 and 4, 5 and 3, 6 and 2 \n",
    "<br />9 (4): 3 and 6, 4 and 5, 5 and 4, 6 and 3\n",
    "<br />10 (3): 4 and 6, 5 and 5, 6 and 4\n",
    "<br />11 (2): 5 and 6, 6 and 5\n",
    "<br />12 (1): 6 and 6\n",
    "\n",
    "<br />This is the same as the distribution above, and is define programatically below"
   ]
  },
  {
   "cell_type": "code",
   "execution_count": 42,
   "id": "2fa7dae7-f387-4d7e-b54e-23ab558f19e4",
   "metadata": {},
   "outputs": [
    {
     "data": {
      "text/plain": [
       "[0.027777777777777776,\n",
       " 0.05555555555555555,\n",
       " 0.08333333333333333,\n",
       " 0.1111111111111111,\n",
       " 0.1388888888888889,\n",
       " 0.16666666666666666,\n",
       " 0.1388888888888889,\n",
       " 0.1111111111111111,\n",
       " 0.08333333333333333,\n",
       " 0.05555555555555555,\n",
       " 0.027777777777777776]"
      ]
     },
     "execution_count": 42,
     "metadata": {},
     "output_type": "execute_result"
    }
   ],
   "source": [
    "counting_data = [1,2,3,4,5,6,5,4,3,2,1]\n",
    "quotients = []\n",
    "for number in counting_data:\n",
    "    quotients.append(number / 36)\n",
    "counting_data = quotients"
   ]
  },
  {
   "cell_type": "code",
   "execution_count": 64,
   "id": "795a33bf-e739-4f62-b884-d24bbb471af2",
   "metadata": {},
   "outputs": [
    {
     "data": {
      "image/png": "[encoded data removed]",
      "text/plain": [
       "<Figure size 432x288 with 1 Axes>"
      ]
     },
     "metadata": {
      "needs_background": "light"
     },
     "output_type": "display_data"
    },
    {
     "data": {
      "image/png": "[encoded data removed]",
      "text/plain": [
       "<Figure size 432x288 with 1 Axes>"
      ]
     },
     "metadata": {
      "needs_background": "light"
     },
     "output_type": "display_data"
    }
   ],
   "source": [
    "plt.step(x=range(2,13), y = counting_data, where = 'mid')\n",
    "plt.xlabel(\"Combination rolled\")\n",
    "plt.ylabel(\"Probability of occuring\")\n",
    "plt.title(\"Counted data\")\n",
    "plt.show()\n",
    "\n",
    "plt.step(x=range(2,13), y = convolved_data, where = 'mid')\n",
    "plt.xlabel(\"Combination rolled\")\n",
    "plt.ylabel(\"Probability of occuring\")\n",
    "plt.title(\"Convolved Data\")\n",
    "plt.show()"
   ]
  },
  {
   "cell_type": "markdown",
   "id": "aa568dae-c412-4a8b-a306-6ae2742f96ee",
   "metadata": {},
   "source": [
    "# 3) Calculate the mean and the variance"
   ]
  },
  {
   "cell_type": "code",
   "execution_count": 101,
   "id": "4b42212b-4879-486b-9350-0461261abe7d",
   "metadata": {},
   "outputs": [
    {
     "data": {
      "text/plain": [
       "7.0"
      ]
     },
     "execution_count": 101,
     "metadata": {},
     "output_type": "execute_result"
    }
   ],
   "source": [
    "mean = 0\n",
    "# i+2 is used since the first value is 2, which means the itterator will always be 2 less than the combination value it is\n",
    "# getting from the probability array\n",
    "for i in range(11):\n",
    "    mean += convolved_data[i] * (i + 2)\n",
    "mean"
   ]
  },
  {
   "cell_type": "code",
   "execution_count": 102,
   "id": "b00003b6-89c1-4bfb-bd18-920bde8c52e4",
   "metadata": {},
   "outputs": [
    {
     "data": {
      "text/plain": [
       "5.833333333333334"
      ]
     },
     "execution_count": 102,
     "metadata": {},
     "output_type": "execute_result"
    }
   ],
   "source": [
    "dice_vals = [i for i in range(2,13)]\n",
    "var = 0\n",
    "\n",
    "for i in range(11):\n",
    "    var += ((mean-dice_vals[i])**2) * convolved_data[i]\n",
    "var"
   ]
  },
  {
   "cell_type": "code",
   "execution_count": 117,
   "id": "68792746-d999-4d35-90d2-5eda7e3539a7",
   "metadata": {},
   "outputs": [
    {
     "data": {
      "text/plain": [
       "[1.6538171687920194e-08,\n",
       " 1.6538171687920193e-07,\n",
       " 9.095994428356107e-07,\n",
       " 3.6383977713424434e-06,\n",
       " 1.1824792756862941e-05,\n",
       " 3.3109419719216235e-05,\n",
       " 8.260816758116137e-05,\n",
       " 0.00018754286694101503,\n",
       " 0.0003929469593049839,\n",
       " 0.0007677019297532555,\n",
       " 0.0014095152966180624,\n",
       " 0.002446657119510914,\n",
       " 0.004034073528975933,\n",
       " 0.0063418926971667575,\n",
       " 0.009535330959245707,\n",
       " 0.013746594459686018,\n",
       " 0.019041554736320673,\n",
       " 0.025386755067825013,\n",
       " 0.032623693616742014,\n",
       " 0.04045732940015917,\n",
       " 0.04846436791372417,\n",
       " 0.05612410482184285,\n",
       " 0.06287043850763768,\n",
       " 0.06815810545055798,\n",
       " 0.0715327193834781,\n",
       " 0.07269280597469895,\n",
       " 0.07153271938347809,\n",
       " 0.06815810545055798,\n",
       " 0.0628704385076377,\n",
       " 0.056124104821842845,\n",
       " 0.048464367913724174,\n",
       " 0.04045732940015918,\n",
       " 0.03262369361674202,\n",
       " 0.025386755067825017,\n",
       " 0.019041554736320673,\n",
       " 0.013746594459686018,\n",
       " 0.009535330959245707,\n",
       " 0.006341892697166758,\n",
       " 0.004034073528975934,\n",
       " 0.002446657119510914,\n",
       " 0.0014095152966180624,\n",
       " 0.0007677019297532555,\n",
       " 0.0003929469593049839,\n",
       " 0.00018754286694101503,\n",
       " 8.260816758116137e-05,\n",
       " 3.3109419719216235e-05,\n",
       " 1.182479275686294e-05,\n",
       " 3.638397771342442e-06,\n",
       " 9.095994428356105e-07,\n",
       " 1.6538171687920193e-07,\n",
       " 1.6538171687920194e-08]"
      ]
     },
     "execution_count": 117,
     "metadata": {},
     "output_type": "execute_result"
    }
   ],
   "source": [
    "convolved_data = np.convolve(die_prob, die_prob, mode = \"full\").tolist()\n",
    "for i in range(8):\n",
    "    convolved_data = np.convolve(convolved_data, die_prob, mode = \"full\").tolist()\n",
    "convolved_data"
   ]
  },
  {
   "cell_type": "code",
   "execution_count": 122,
   "id": "4258c4f6-1cad-4bdc-95d9-d1302773e814",
   "metadata": {},
   "outputs": [
    {
     "data": {
      "image/png": "[encoded data removed]",
      "text/plain": [
       "<Figure size 432x288 with 1 Axes>"
      ]
     },
     "metadata": {
      "needs_background": "light"
     },
     "output_type": "display_data"
    }
   ],
   "source": [
    "plt.step(x=range(10,61), y = convolved_data, where = 'mid')\n",
    "plt.xlabel(\"Combination rolled\")\n",
    "plt.ylabel(\"Probability of occuring\")\n",
    "plt.title(\"Convolved Data\")\n",
    "plt.show()"
   ]
  },
  {
   "cell_type": "code",
   "execution_count": 121,
   "id": "d769bae2-8108-4be4-9451-d9aac3fe9129",
   "metadata": {},
   "outputs": [
    {
     "name": "stdout",
     "output_type": "stream",
     "text": [
      "0\n",
      "1\n",
      "2\n",
      "3\n",
      "4\n",
      "5\n",
      "6\n",
      "7\n"
     ]
    }
   ],
   "source": []
  }
 ],
 "metadata": {
  "kernelspec": {
   "display_name": "Python 3",
   "language": "python",
   "name": "python3"
  },
  "language_info": {
   "codemirror_mode": {
    "name": "ipython",
    "version": 3
   },
   "file_extension": ".py",
   "mimetype": "text/x-python",
   "name": "python",
   "nbconvert_exporter": "python",
   "pygments_lexer": "ipython3",
   "version": "3.8.8"
  }
 },
 "nbformat": 4,
 "nbformat_minor": 5
}
