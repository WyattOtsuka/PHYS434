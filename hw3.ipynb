{
 "cells": [
  {
   "cell_type": "markdown",
   "id": "c80618e6-6ad5-4366-b391-fa946bc79104",
   "metadata": {},
   "source": [
    "# Problem 1"
   ]
  },
  {
   "cell_type": "markdown",
   "id": "32b7447b-0172-4204-8666-6a65388f97e2",
   "metadata": {},
   "source": [
    "## 1a) Which algorithm makes the fewest mistakes?"
   ]
  },
  {
   "cell_type": "markdown",
   "id": "1f0d5f40-b684-492b-bdfc-16e0d7af1931",
   "metadata": {},
   "source": [
    "The first algorithm mistakenly identified 5 people as birds and 3 birds as people, making a total of 8 errors out of 100 trials. The second catagorized 11 people as birds and 1 bird as a person, for a total of 12 errors out of 100 trials. This means that the second algorithm made more errors total."
   ]
  },
  {
   "cell_type": "markdown",
   "id": "9a7cd2c8-31e3-4a4d-a35b-50a00cc798cf",
   "metadata": {},
   "source": [
    "## 1b) Which algorithm is better for the zoo? Explain."
   ]
  },
  {
   "cell_type": "markdown",
   "id": "ac59a877-263d-41b0-b632-35bb992d776b",
   "metadata": {},
   "source": [
    "For the zoo, it would be much better to use the second algorithm. Although it has more errors total, what is important is what the errors were. The first algorithm would have let 3 birds out, while the second would have let out only 1. This means that the 3 times as many birds would be let out with the first algorithm than the second, which is really bad for a zoo, since the whole attraction of a zoo is to look at animals, and if the animals all escape, then the zoo has no purpose."
   ]
  },
  {
   "cell_type": "markdown",
   "id": "7b45875b-18a8-4c63-bde4-e397fadb9e7a",
   "metadata": {},
   "source": [
    "## 1c) Make new truth tables for both algorithms."
   ]
  },
  {
   "cell_type": "code",
   "execution_count": 32,
   "id": "c78cbbdf-df9a-4acc-8f0a-812be42d72a8",
   "metadata": {},
   "outputs": [
    {
     "name": "stdout",
     "output_type": "stream",
     "text": [
      "First algorithm\n"
     ]
    },
    {
     "data": {
      "text/html": [
       "<div>\n",
       "<style scoped>\n",
       "    .dataframe tbody tr th:only-of-type {\n",
       "        vertical-align: middle;\n",
       "    }\n",
       "\n",
       "    .dataframe tbody tr th {\n",
       "        vertical-align: top;\n",
       "    }\n",
       "\n",
       "    .dataframe thead th {\n",
       "        text-align: right;\n",
       "    }\n",
       "</style>\n",
       "<table border=\"1\" class=\"dataframe\">\n",
       "  <thead>\n",
       "    <tr style=\"text-align: right;\">\n",
       "      <th></th>\n",
       "      <th>True bird</th>\n",
       "      <th>True people</th>\n",
       "    </tr>\n",
       "  </thead>\n",
       "  <tbody>\n",
       "    <tr>\n",
       "      <th>NN Bird</th>\n",
       "      <td>93</td>\n",
       "      <td>0</td>\n",
       "    </tr>\n",
       "    <tr>\n",
       "      <th>NN People</th>\n",
       "      <td>6</td>\n",
       "      <td>1</td>\n",
       "    </tr>\n",
       "  </tbody>\n",
       "</table>\n",
       "</div>"
      ],
      "text/plain": [
       "           True bird  True people\n",
       "NN Bird           93            0\n",
       "NN People          6            1"
      ]
     },
     "metadata": {},
     "output_type": "display_data"
    },
    {
     "name": "stdout",
     "output_type": "stream",
     "text": [
      "Second algorithm\n"
     ]
    },
    {
     "data": {
      "text/html": [
       "<div>\n",
       "<style scoped>\n",
       "    .dataframe tbody tr th:only-of-type {\n",
       "        vertical-align: middle;\n",
       "    }\n",
       "\n",
       "    .dataframe tbody tr th {\n",
       "        vertical-align: top;\n",
       "    }\n",
       "\n",
       "    .dataframe thead th {\n",
       "        text-align: right;\n",
       "    }\n",
       "</style>\n",
       "<table border=\"1\" class=\"dataframe\">\n",
       "  <thead>\n",
       "    <tr style=\"text-align: right;\">\n",
       "      <th></th>\n",
       "      <th>True bird</th>\n",
       "      <th>True people</th>\n",
       "    </tr>\n",
       "  </thead>\n",
       "  <tbody>\n",
       "    <tr>\n",
       "      <th>NA Bird</th>\n",
       "      <td>97</td>\n",
       "      <td>0</td>\n",
       "    </tr>\n",
       "    <tr>\n",
       "      <th>NA People</th>\n",
       "      <td>2</td>\n",
       "      <td>1</td>\n",
       "    </tr>\n",
       "  </tbody>\n",
       "</table>\n",
       "</div>"
      ],
      "text/plain": [
       "           True bird  True people\n",
       "NA Bird           97            0\n",
       "NA People          2            1"
      ]
     },
     "metadata": {},
     "output_type": "display_data"
    }
   ],
   "source": [
    "import pandas as pd\n",
    "\n",
    "tPeopleNNPeople = 47/52\n",
    "tPeopleNNBird = 5/52\n",
    "\n",
    "tBirdNNPeople = 3/48\n",
    "tBirdNNBird = 45/48\n",
    "\n",
    "alg_1 = {\"True bird\" : { \n",
    "        \"NN Bird\": round(tBirdNNBird*99), \n",
    "        \"NN People\": round(tBirdNNPeople*99)\n",
    "    },\n",
    "    \"True people\": {\n",
    "        \"NN Bird\": round(tPeopleNNBird*1),\n",
    "        \"NN People\" : round(tPeopleNNPeople*1)\n",
    "    }\n",
    "}\n",
    "nndf = pd.DataFrame(alg_1)\n",
    "\n",
    "tPeopleNAPeople = 42/52\n",
    "tPeopleNABird = 11/52\n",
    "\n",
    "tBirdNAPeople = 1/48\n",
    "tBirdNABird = 47/48\n",
    "\n",
    "alg_2 = {\"True bird\" : { \n",
    "        \"NA Bird\": round(tBirdNABird*99), \n",
    "        \"NA People\": round(tBirdNAPeople*99)\n",
    "    },\n",
    "    \"True people\": {\n",
    "        \"NA Bird\": round(tPeopleNABird*1),\n",
    "        \"NA People\" : round(tPeopleNAPeople*1)\n",
    "    }\n",
    "}\n",
    "nadf = pd.DataFrame(alg_2)\n",
    "print(\"First algorithm\")\n",
    "display(nndf)\n",
    "print(\"Second algorithm\")\n",
    "display(nadf)"
   ]
  },
  {
   "cell_type": "markdown",
   "id": "9c8ff02c-48a7-47d7-be6e-65bd023194f5",
   "metadata": {},
   "source": [
    "# Problem 2"
   ]
  },
  {
   "cell_type": "markdown",
   "id": "a98aa104-d193-4248-bf46-4da0fd9c1ba6",
   "metadata": {},
   "source": [
    "## 2a) What is the pdf of the sum of two identical exponential distributions?"
   ]
  },
  {
   "cell_type": "markdown",
   "id": "64733795-2e20-4701-8b6a-7829be8576a7",
   "metadata": {},
   "source": [
    "Based on the <a href = https://en.wikipedia.org/wiki/Exponential_distribution#Sum_of_two_independent_exponential_random_variables>Wikipedia page for the exponential distribution</a>, we can see that the sum of two identical exponential distributinos is an <a = https://en.wikipedia.org/wiki/Erlang_distribution>Erlang distribution</a> of shape 2 and parameter $\\lambda$"
   ]
  },
  {
   "cell_type": "markdown",
   "id": "53373da6-327e-4fe0-9cfb-3ed2fca3a96f",
   "metadata": {},
   "source": [
    "## 2b) What is the pdf of the ratio of two zero-mean unity variance normal distributions  X1/X2 ?"
   ]
  },
  {
   "cell_type": "markdown",
   "id": "bba48f65-d738-429e-b5ba-13a73d681d9a",
   "metadata": {},
   "source": [
    "Based on <a href=http://www.math.wm.edu/~leemis/chart/UDR/PDFs/StandardnormalStandardcauchy.pdf>this proof<a>, the pdf of the ratio between two zero-mean unity variance normal distriubtion is a standard Cauchy distribution."
   ]
  },
  {
   "cell_type": "markdown",
   "id": "09b1e19a-750d-4f16-9ef0-7c746972926d",
   "metadata": {},
   "source": [
    "## 2c) What is the pdf?"
   ]
  },
  {
   "cell_type": "markdown",
   "id": "21daa261-5f56-4a79-a864-265ae137ff73",
   "metadata": {},
   "source": [
    "<a href=https://en.wikipedia.org/wiki/Normal_distribution#Operations_on_two_independent_standard_normal_variables>Here<a> we can see that the combination two gaussians with seperate independent standard normal random variables with mean 0 and variance 1 has the same distribution as a Rayleigh distribution."
   ]
  }
 ],
 "metadata": {
  "kernelspec": {
   "display_name": "Python 3",
   "language": "python",
   "name": "python3"
  },
  "language_info": {
   "codemirror_mode": {
    "name": "ipython",
    "version": 3
   },
   "file_extension": ".py",
   "mimetype": "text/x-python",
   "name": "python",
   "nbconvert_exporter": "python",
   "pygments_lexer": "ipython3",
   "version": "3.8.8"
  }
 },
 "nbformat": 4,
 "nbformat_minor": 5
}
