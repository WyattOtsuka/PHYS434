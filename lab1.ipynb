{
 "cells": [
  {
   "cell_type": "markdown",
   "id": "540df231-1756-4546-a320-f165b0a9f1c2",
   "metadata": {},
   "source": [
    "# Lab 1 "
   ]
  },
  {
   "cell_type": "code",
   "execution_count": 21,
   "id": "a9f7e6cc-e97d-4c41-8d63-b3eed6c283a8",
   "metadata": {},
   "outputs": [],
   "source": [
    "import scipy.stats"
   ]
  },
  {
   "cell_type": "markdown",
   "id": "b82c861f-4425-4963-acb3-0608a14f7198",
   "metadata": {},
   "source": [
    "## A little statistics"
   ]
  },
  {
   "cell_type": "markdown",
   "id": "0bfc5f06-4d95-4970-a2ec-29846327eb14",
   "metadata": {},
   "source": [
    "### &nbsp;&nbsp;&nbsp;1. Converting a probability into a 'sigma'."
   ]
  },
  {
   "cell_type": "markdown",
   "id": "1efb1b58-8e40-4a58-91e5-19b430474dfe",
   "metadata": {},
   "source": [
    "#### &nbsp;&nbsp;&nbsp;&nbsp;&nbsp;&nbsp; A. Reading (no code needed)"
   ]
  },
  {
   "cell_type": "markdown",
   "id": "643a2008-32d7-4780-8f0d-3046f81406e1",
   "metadata": {},
   "source": [
    "In my reading of what a normal distribution is, there were several main points covered. Frist of all, it is also known as a Gaussian Distribution. It is a distribution centered on a mean. The width of the curve is based on a variable known as sigma. 68% of all data points in a Gaussian Distribution will be within plus or minus 1 sigma of the mean, while 95% will be within 2, and 99.7% within 3. The more sigma from the mean that one goes, the closer to 100% that one approaches, however, since the Gaussian only approaches zero at the infinites, the only way to get 100% of all possible outcomes is to go infinite sigma away. The integral of any normal distribution will always equal 1, regardless of mean that it is centered on or standard deviation (sigma squared)."
   ]
  },
  {
   "cell_type": "markdown",
   "id": "315880c2-55ac-4593-838e-9e91e11e0a88",
   "metadata": {},
   "source": [
    "#### &nbsp;&nbsp;&nbsp;&nbsp;&nbsp;&nbsp; B. Integrating the standard normal distribution"
   ]
  },
  {
   "cell_type": "markdown",
   "id": "b12cf066-46d4-45df-bdb1-090636dbc8e8",
   "metadata": {},
   "source": [
    "For this section, I decided to o several integrals. the first was $\\int\\limits_{-\\infty}^{0}PDF(x) dx$, which is just the left half of the Gaussian. As expected, this resulted in 0.5"
   ]
  },
  {
   "cell_type": "code",
   "execution_count": 22,
   "id": "e2136f8b-35fa-4793-85af-cd4123279415",
   "metadata": {},
   "outputs": [
    {
     "data": {
      "text/plain": [
       "0.5"
      ]
     },
     "execution_count": 22,
     "metadata": {},
     "output_type": "execute_result"
    }
   ],
   "source": [
    "# Integral from -infinity to 0 PDF (Z = 0)\n",
    "scipy.stats.norm.cdf(0)"
   ]
  },
  {
   "cell_type": "markdown",
   "id": "98d5ddb7-b4de-4665-badd-772069d9f53d",
   "metadata": {},
   "source": [
    "From here, I tried $\\int\\limits_{-\\infty}^{3}PDF(x) dx$. This resulted in ~0.9987 which is to be expected. Since $\\int\\limits_{-3\\sigma}^{3\\sigma}PDF(x) dx = 0.997$, we know that the tails contain ~0.003 of the area. Since we only included the left tail, we would expect to see roughly $0.997+\\frac{0.003}{2}$ or about 0.9985"
   ]
  },
  {
   "cell_type": "code",
   "execution_count": 23,
   "id": "1121ec0c-1183-41b7-9c15-bff7a69dbf1a",
   "metadata": {},
   "outputs": [
    {
     "data": {
      "text/plain": [
       "0.9986501019683699"
      ]
     },
     "execution_count": 23,
     "metadata": {},
     "output_type": "execute_result"
    }
   ],
   "source": [
    "# Integral from -infinity to 3 PDF (Z = 3)\n",
    "scipy.stats.norm.cdf(3)"
   ]
  },
  {
   "cell_type": "markdown",
   "id": "f0b4c230-d581-442c-9475-dad42817f309",
   "metadata": {},
   "source": [
    "I then tried both 0 and 3 for the survival function which worked as predicted. I got the same results as for the cumulative distribution function, which is to be expected."
   ]
  },
  {
   "cell_type": "code",
   "execution_count": 24,
   "id": "5cc8cdae-ef91-449b-83b3-1602fae80f51",
   "metadata": {},
   "outputs": [
    {
     "data": {
      "text/plain": [
       "0.5"
      ]
     },
     "execution_count": 24,
     "metadata": {},
     "output_type": "execute_result"
    }
   ],
   "source": [
    "# Integral from 0 to infinity PDF (Z = 0)\n",
    "scipy.stats.norm.sf(0)"
   ]
  },
  {
   "cell_type": "code",
   "execution_count": 25,
   "id": "96939b8d-20b4-49aa-ad3a-de253f9734fa",
   "metadata": {},
   "outputs": [
    {
     "data": {
      "text/plain": [
       "0.0013498980316300933"
      ]
     },
     "execution_count": 25,
     "metadata": {},
     "output_type": "execute_result"
    }
   ],
   "source": [
    "# Integral from 3 to infinity of PDF (Z = -3)\n",
    "scipy.stats.norm.sf(3)"
   ]
  },
  {
   "cell_type": "markdown",
   "id": "72fb599c-1162-4df1-b581-eb54235fa95a",
   "metadata": {},
   "source": [
    "Next I tried combining the two to do $\\int\\limits_{-3}^{3}PDF(x) dx$"
   ]
  },
  {
   "cell_type": "code",
   "execution_count": 26,
   "id": "384a082a-07e9-4bb9-89b1-6171bdfb4e53",
   "metadata": {},
   "outputs": [
    {
     "data": {
      "text/plain": [
       "0.9973002039367398"
      ]
     },
     "execution_count": 26,
     "metadata": {},
     "output_type": "execute_result"
    }
   ],
   "source": [
    "# Integral from -3 to 3 of PDF\n",
    "1 - scipy.stats.norm.cdf(-3) - scipy.stats.norm.sf(3)"
   ]
  },
  {
   "cell_type": "markdown",
   "id": "7e1b7e30-9641-4cf6-8c16-9da0846fe6c7",
   "metadata": {},
   "source": [
    "Finally, I tried the inverse, which is to find the probability of ending up 3 sigma away in either direction from the mean"
   ]
  },
  {
   "cell_type": "code",
   "execution_count": 27,
   "id": "a0afaf30-a0a3-48b7-915c-d2be073dec28",
   "metadata": {},
   "outputs": [
    {
     "data": {
      "text/plain": [
       "0.0026997960632601866"
      ]
     },
     "execution_count": 27,
     "metadata": {},
     "output_type": "execute_result"
    }
   ],
   "source": [
    "# Integral from -infitity to -3 plus integral from 3 to infinity of PDF\n",
    "scipy.stats.norm.cdf(-3) + scipy.stats.norm.sf(3)"
   ]
  },
  {
   "cell_type": "markdown",
   "id": "a68e02b8-6431-4f16-bc8a-7fb4314e887e",
   "metadata": {},
   "source": [
    "#### &nbsp;&nbsp;&nbsp;&nbsp;&nbsp;&nbsp;C. Determine the associated 'sigma' value"
   ]
  },
  {
   "cell_type": "markdown",
   "id": "265d78e3-25b0-4d89-81e9-a13732bfed07",
   "metadata": {},
   "source": [
    "This section, I find the associate 'sigma' value given a probability. I started by testing with known values. 0.5 was the first choice since it is 0 sigma away."
   ]
  },
  {
   "cell_type": "code",
   "execution_count": 28,
   "id": "60227495-0328-4c45-8561-d763b625f892",
   "metadata": {},
   "outputs": [
    {
     "data": {
      "text/plain": [
       "0.0"
      ]
     },
     "execution_count": 28,
     "metadata": {},
     "output_type": "execute_result"
    }
   ],
   "source": [
    "# Sigma of a probability of 0.5\n",
    "scipy.stats.norm.ppf(0.5)"
   ]
  },
  {
   "cell_type": "markdown",
   "id": "3028bffc-835a-4d20-95ca-0a77edb79cab",
   "metadata": {},
   "source": [
    "The next was $0.84134$, since this was the value of 1 sigma in the Z-table. This makes sense since from the mean to 1 sigma to the right of the mean has about 0.34 of the probabilty ($\\frac{0.68}{2} = 0.34$, and thus $0.34+0.5=0.84$."
   ]
  },
  {
   "cell_type": "code",
   "execution_count": 29,
   "id": "fe7e13fb-8950-408d-85f3-4ccbb8cae503",
   "metadata": {},
   "outputs": [
    {
     "data": {
      "text/plain": [
       "0.9999803859660787"
      ]
     },
     "execution_count": 29,
     "metadata": {},
     "output_type": "execute_result"
    }
   ],
   "source": [
    "# Sigma of a probability of 0.84134 (1 Sigma on Z-Table)\n",
    "scipy.stats.norm.ppf(0.84134)"
   ]
  },
  {
   "cell_type": "markdown",
   "id": "e9de72c4-a92a-4c6e-8023-6e515d1524b8",
   "metadata": {},
   "source": [
    "After this, I tried 0.97725, which is 2 sigma from the mean."
   ]
  },
  {
   "cell_type": "code",
   "execution_count": 30,
   "id": "7c5da828-d184-4c55-b9fc-1f76cb94c22e",
   "metadata": {},
   "outputs": [
    {
     "data": {
      "text/plain": [
       "2.0000024438996027"
      ]
     },
     "execution_count": 30,
     "metadata": {},
     "output_type": "execute_result"
    }
   ],
   "source": [
    "# Sigma of a probability of 0.97725 (2 Sigma on Z-Table)\n",
    "scipy.stats.norm.ppf(0.97725)"
   ]
  },
  {
   "cell_type": "markdown",
   "id": "47a021d4-648b-4688-90d1-ea349b92d1dd",
   "metadata": {},
   "source": [
    "Finally, I tried $0.9999997133484281$ and $2.866515718791933 * 10^{-7}$, to see what 5 and -5 looked like respectively. These were specifically chosen since in physics 5 sigma is a statistically significant signal"
   ]
  },
  {
   "cell_type": "code",
   "execution_count": 31,
   "id": "a11ebb7a-679e-4bd8-a1bf-08deb74f08d5",
   "metadata": {},
   "outputs": [
    {
     "data": {
      "text/plain": [
       "4.999999999970176"
      ]
     },
     "execution_count": 31,
     "metadata": {},
     "output_type": "execute_result"
    }
   ],
   "source": [
    "# Sigma of a probability of ~0.9999997 (5 Sigma on Z-Table)\n",
    "scipy.stats.norm.ppf(0.9999997133484281)"
   ]
  },
  {
   "cell_type": "code",
   "execution_count": 32,
   "id": "1d08cd85-cd56-4f96-ad2c-21a0e0cb0682",
   "metadata": {},
   "outputs": [
    {
     "data": {
      "text/plain": [
       "-5.000000000000001"
      ]
     },
     "execution_count": 32,
     "metadata": {},
     "output_type": "execute_result"
    }
   ],
   "source": [
    "# Sigma of a probability of ~0.2.8665e-07 (-5 Sigma on Z-Table)\n",
    "scipy.stats.norm.ppf(2.866515718791933e-07)"
   ]
  },
  {
   "cell_type": "markdown",
   "id": "ce9f7ce0-fed4-4c2a-8493-4214251aab52",
   "metadata": {},
   "source": [
    "#### &nbsp;&nbsp;&nbsp;&nbsp;&nbsp;&nbsp; D. Explaination of negative Sigma"
   ]
  },
  {
   "cell_type": "markdown",
   "id": "c1a35259-fc57-4293-8260-e240f43996fe",
   "metadata": {},
   "source": [
    "The negative sigma value indicates the endpoint for the integral to get the given area is to the left of the mean. For example, the endpoints of an integral that covers the an area of roughly $2.867^{-7}$ of the PDF would go from -infinity to to -5 Sigma"
   ]
  },
  {
   "cell_type": "markdown",
   "id": "5923d44b-bf38-4dc9-8872-1949069002c4",
   "metadata": {},
   "source": [
    "### &nbsp;&nbsp;&nbsp; 2. Continuous analytic distributions"
   ]
  },
  {
   "cell_type": "code",
   "execution_count": 33,
   "id": "8bc9788d-1197-4724-8597-24c26810f360",
   "metadata": {},
   "outputs": [],
   "source": [
    "import numpy as np\n",
    "import matplotlib\n",
    "import matplotlib.pyplot as plt"
   ]
  },
  {
   "cell_type": "markdown",
   "id": "f78ca5a5-f148-432b-b325-b924411ecddb",
   "metadata": {},
   "source": [
    "In this section, I start by making a graph of a Gamma distribution using the scipy gamma module. In addition, I used the same library to generate 100k samples from the same distribution,then plotted them as a histogram on the same graph."
   ]
  },
  {
   "cell_type": "code",
   "execution_count": 34,
   "id": "c8d7726c-5bb8-4930-a831-53c323cc4d11",
   "metadata": {},
   "outputs": [
    {
     "data": {
      "image/png": "[encoded data removed]",
      "text/plain": [
       "<Figure size 432x288 with 1 Axes>"
      ]
     },
     "metadata": {
      "needs_background": "light"
     },
     "output_type": "display_data"
    }
   ],
   "source": [
    "# Realization with ~100k samples\n",
    "d = scipy.stats.gamma.rvs(1, loc = 3.0, scale = .01, size = 100000)\n",
    "\n",
    "# Analytic PDF\n",
    "fig, ax = plt.subplots(1, 1)\n",
    "ax.hist(d,75, density=True)\n",
    "plt.tick_params(labelsize = 12)\n",
    "plt.xlim([2.995,3.05])\n",
    "x = np.linspace(2.995,3.05,1000)\n",
    "ax.plot(x,scipy.stats.gamma.pdf(a = 1, x = x,loc = 3, scale = 0.01),linewidth = 2,alpha = 0.7)\n",
    "plt.show()"
   ]
  },
  {
   "cell_type": "markdown",
   "id": "cb27eb8e-c94f-4ff6-8f67-f1ac5f421a95",
   "metadata": {},
   "source": [
    "### &nbsp;&nbsp;&nbsp;3. Determine the 'sigma'"
   ]
  },
  {
   "cell_type": "markdown",
   "id": "5ced7da5-9dce-4dd2-b08c-8b84865a6583",
   "metadata": {},
   "source": [
    "#### &nbsp;&nbsp;&nbsp;&nbsp;&nbsp;&nbsp; A. Hypothetical Value"
   ]
  },
  {
   "cell_type": "markdown",
   "id": "74cb70e7-a116-438e-bed7-628cce27327f",
   "metadata": {},
   "source": [
    "&nbsp;&nbsp;&nbsp;&nbsp;&nbsp;&nbsp;&nbsp;&nbsp;&nbsp;&nbsp;&nbsp;&nbsp; I chose a hypothetical value of 3.042, since it visually appears to be decently significant of a signal"
   ]
  },
  {
   "cell_type": "markdown",
   "id": "f8d35cd0-57eb-4c7b-bc2b-c730a6c93c8c",
   "metadata": {},
   "source": [
    "#### &nbsp;&nbsp;&nbsp;&nbsp;&nbsp;&nbsp; B. The statistical question"
   ]
  },
  {
   "cell_type": "markdown",
   "id": "fdab7ecf-93a5-4c16-8cd5-a655ca6b56c0",
   "metadata": {},
   "source": [
    "&nbsp;&nbsp;&nbsp;&nbsp;&nbsp;&nbsp;&nbsp;&nbsp;&nbsp;&nbsp;&nbsp;&nbsp; What is the probability of reciving a signal of 3.042 or higher?"
   ]
  },
  {
   "cell_type": "markdown",
   "id": "44a86a20-0105-4551-bc44-e4bd885dc475",
   "metadata": {},
   "source": [
    "#### &nbsp;&nbsp;&nbsp;&nbsp;&nbsp;&nbsp; C. Mathematical integral"
   ]
  },
  {
   "cell_type": "markdown",
   "id": "171ef8a9-4ccd-4c51-afd1-d258cff23d39",
   "metadata": {},
   "source": [
    "&nbsp;&nbsp;&nbsp;&nbsp;&nbsp;&nbsp;&nbsp;&nbsp;&nbsp;&nbsp;&nbsp;&nbsp; $\\int\\limits_{3.042}^\\infty {\\dfrac{x^{a-1}e^{-x}}{\\Gamma \\left( x \\right)}dx}$ In this integral, the bounds are $3.042$ and $\\infty$ since we want to know the probability of a signal from 3.042 or greater."
   ]
  },
  {
   "cell_type": "markdown",
   "id": "61317281-257b-45ef-b7bf-642197c04e0c",
   "metadata": {},
   "source": [
    "#### &nbsp;&nbsp;&nbsp;&nbsp;&nbsp;&nbsp; D. Calculate the probability"
   ]
  },
  {
   "cell_type": "markdown",
   "id": "4c767aea-4b11-4904-9e53-afd404d3ab38",
   "metadata": {},
   "source": [
    "The probability here uses a survival function because we want the right side tail. It stops at $3.042$ since that is where our signal is, and we want to know the probability of seeing $3.042$ or higher. This code is the same as $\\int\\limits_{3.042}^\\infty {\\dfrac{x^{a-1}e^{-x}}{\\Gamma \\left( x \\right)}dx}$"
   ]
  },
  {
   "cell_type": "code",
   "execution_count": 35,
   "id": "7ef3a8c4-e52c-4350-8021-db7cf09c13fb",
   "metadata": {},
   "outputs": [
    {
     "data": {
      "text/plain": [
       "0.014995576820477986"
      ]
     },
     "execution_count": 35,
     "metadata": {},
     "output_type": "execute_result"
    }
   ],
   "source": [
    "# Porbability to see a signal of 3.042 or higher \n",
    "q = scipy.stats.gamma.sf(x = 3.042, a = 1, loc = 3, scale = 0.01)\n",
    "q"
   ]
  },
  {
   "cell_type": "markdown",
   "id": "cf418462-e837-456d-8686-94588f2c93f4",
   "metadata": {},
   "source": [
    "#### &nbsp;&nbsp;&nbsp;&nbsp;&nbsp;&nbsp; E. Equivalent 'sigma'"
   ]
  },
  {
   "cell_type": "markdown",
   "id": "15f19588-9678-4f15-9bd2-79480752ba36",
   "metadata": {},
   "source": [
    "From there, we got that the probability is roughly $0.015$. We plug this probability into the inverse survival function (ISF) for a normal distrubution to find our sigma value. The ISF essentially solve for $a$ in the equation $\\int\\limits_{a}^\\infty \\frac{1}{{\\sigma \\sqrt {2\\pi } }}e^{-\\frac{(x - \\mu )^2}{2\\sigma ^2 }} = 0.015$, where $\\mu=0$ and $\\sigma=1$"
   ]
  },
  {
   "cell_type": "code",
   "execution_count": 36,
   "id": "1bc5eae6-4ab3-4647-b3f4-840cfdfb4363",
   "metadata": {},
   "outputs": [
    {
     "data": {
      "text/plain": [
       "2.1702071900967366"
      ]
     },
     "execution_count": 36,
     "metadata": {},
     "output_type": "execute_result"
    }
   ],
   "source": [
    "# Equivelant sigma on a normal distribution\n",
    "scipy.stats.norm.isf(q = q)"
   ]
  },
  {
   "cell_type": "markdown",
   "id": "6297cbb8-a1a8-48db-b6bb-695f3e97f645",
   "metadata": {},
   "source": [
    "### &nbsp;&nbsp;&nbsp; 4. Explore values"
   ]
  },
  {
   "cell_type": "markdown",
   "id": "881359e6-746b-4e4b-807f-54f898661656",
   "metadata": {},
   "source": [
    "In this section, I decided to try a somewhat significant value of 3.07 based on visual inspection, a value that I thought could be close to 5 sigma (3.17), a value close to the vertical jump (3.0001), and a value close to 0 sigma."
   ]
  },
  {
   "cell_type": "code",
   "execution_count": 37,
   "id": "3a9f6136-a3ee-499e-935f-54c3cde148cb",
   "metadata": {},
   "outputs": [
    {
     "name": "stdout",
     "output_type": "stream",
     "text": [
      "Probability:\t0.006737946999085587\n",
      "Sigma:\t\t2.4709386372615825\n"
     ]
    }
   ],
   "source": [
    "# Porbability to see a signal of 3.07 or higher \n",
    "q = scipy.stats.gamma.sf(x = 3.05, a = 1, loc = 3, scale = 0.01)\n",
    "print(\"Probability:\\t\" + str(q))\n",
    "print(\"Sigma:\\t\\t\" + str(scipy.stats.norm.isf(q = q)))"
   ]
  },
  {
   "cell_type": "code",
   "execution_count": 38,
   "id": "a2733f40-4267-4891-923c-aeab3c655f7d",
   "metadata": {},
   "outputs": [
    {
     "name": "stdout",
     "output_type": "stream",
     "text": [
      "Probability:\t4.1399377187851926e-08\n",
      "Sigma:\t\t5.360920932782273\n"
     ]
    }
   ],
   "source": [
    "# Porbability to see a signal of 3.17 or higher \n",
    "q = scipy.stats.gamma.sf(x = 3.17, a = 1, loc = 3, scale = 0.01)\n",
    "print(\"Probability:\\t\" + str(q))\n",
    "print(\"Sigma:\\t\\t\" + str(scipy.stats.norm.isf(q = q)))"
   ]
  },
  {
   "cell_type": "code",
   "execution_count": 39,
   "id": "1ea94dc1-7384-4112-aae6-9458789f404d",
   "metadata": {},
   "outputs": [
    {
     "name": "stdout",
     "output_type": "stream",
     "text": [
      "Probability:\t0.9900498337491471\n",
      "Sigma:\t\t-2.328221737536387\n"
     ]
    }
   ],
   "source": [
    "# Porbability to see a signal of 3.0001 or higher \n",
    "q = scipy.stats.gamma.sf(x = 3.0001, a = 1, loc = 3, scale = 0.01)\n",
    "print(\"Probability:\\t\" + str(q))\n",
    "print(\"Sigma:\\t\\t\" + str(scipy.stats.norm.isf(q = q)))"
   ]
  },
  {
   "cell_type": "code",
   "execution_count": 40,
   "id": "d9dbba4a-9164-4377-b4a0-52a59963af44",
   "metadata": {},
   "outputs": [
    {
     "name": "stdout",
     "output_type": "stream",
     "text": [
      "Probability:\t0.49658530379140375\n",
      "Sigma:\t\t0.00855947858249478\n"
     ]
    }
   ],
   "source": [
    "# Porbability to see a signal of 3.007 or higher \n",
    "q = scipy.stats.gamma.sf(x = 3.007, a = 1, loc = 3, scale = 0.01)\n",
    "print(\"Probability:\\t\" + str(q))\n",
    "print(\"Sigma:\\t\\t\" + str(scipy.stats.norm.isf(q = q)))"
   ]
  },
  {
   "cell_type": "markdown",
   "id": "7a56c5fe-8299-4a10-a4d2-efe71a2aa366",
   "metadata": {},
   "source": [
    "## Non-continuous distributions"
   ]
  },
  {
   "cell_type": "markdown",
   "id": "21926a40-451f-4a7c-aa24-60b9a69e335b",
   "metadata": {},
   "source": [
    "### &nbsp;&nbsp;&nbsp; A. Binomial Distribution"
   ]
  },
  {
   "cell_type": "markdown",
   "id": "68a9806b-5380-436d-89f4-cce94cbc97df",
   "metadata": {},
   "source": [
    "The binomial distribution is a distribution of successes based on *n* experiments, with each experiment having the same probability, *p*, of success or failure. The expected value of such a distribution is *n*\\**p*. The binomial distribution is written as $\\binom{n}{k} p^{k} (1-p)^{(n-k)}$, where $k$ is the probability of getting *exactly* k successes."
   ]
  },
  {
   "cell_type": "markdown",
   "id": "1717e158-d413-465e-b404-2ea348b2b0db",
   "metadata": {},
   "source": [
    "### &nbsp;&nbsp;&nbsp; B. Binomial Distribution Graphed"
   ]
  },
  {
   "cell_type": "markdown",
   "id": "fa7d7c58-decd-4678-98fd-dde76c619b46",
   "metadata": {},
   "source": [
    "In the below code, I graphed the distribution of getting x successes, given a 50% rate, and 12 experiments. This distribution would represent flipping 12 coins and counting the number of heads."
   ]
  },
  {
   "cell_type": "code",
   "execution_count": 61,
   "id": "dd90ecbb-1861-42de-9a7d-d65ecec90e20",
   "metadata": {},
   "outputs": [
    {
     "data": {
      "image/png": "[encoded data removed]",
      "text/plain": [
       "<Figure size 432x288 with 1 Axes>"
      ]
     },
     "metadata": {
      "needs_background": "light"
     },
     "output_type": "display_data"
    }
   ],
   "source": [
    "d = scipy.stats.binom.rvs(12,0.5, size=100000)\n",
    "\n",
    "fig, ax = plt.subplots(1, 1)\n",
    "ax.hist(d, bins = 12, density=True)\n",
    "plt.tick_params(labelsize = 12)\n",
    "plt.xlim([0,13])\n",
    "\n",
    "plt.show()\n"
   ]
  },
  {
   "cell_type": "markdown",
   "id": "e137ba80-256b-4a35-86bc-cb49c2bed0b0",
   "metadata": {},
   "source": [
    "The below plot shows a the distribution of the number of successes given a 25% chance of success with 10 experiments per trial. As expected, the distribution is shifted to the left, with a tail to the right. The mean of such a distribution is 2.5, which is represented in the graph with the 2 bin slightly taller than the 3 bin. This would be the equivalent of drawing 1 by 1 and replacing them afterwards and counting the number of times a heart is drawn."
   ]
  },
  {
   "cell_type": "code",
   "execution_count": 66,
   "id": "b232e4d1-5cba-4d7c-8c3f-19e18a2a0c94",
   "metadata": {},
   "outputs": [
    {
     "data": {
      "image/png": "[encoded data removed]",
      "text/plain": [
       "<Figure size 432x288 with 1 Axes>"
      ]
     },
     "metadata": {
      "needs_background": "light"
     },
     "output_type": "display_data"
    }
   ],
   "source": [
    "d = scipy.stats.binom.rvs(10, 0.25, size=100000)\n",
    "\n",
    "fig, ax = plt.subplots(1, 1)\n",
    "ax.hist(d, bins = 10, density=True)\n",
    "plt.tick_params(labelsize = 12)\n",
    "plt.xlim([0,10])\n",
    "\n",
    "plt.show()"
   ]
  },
  {
   "cell_type": "markdown",
   "id": "6d0d1294-6e0a-4bc0-ac67-3839429fde8d",
   "metadata": {},
   "source": [
    "Finally, given a 92% chance of success, and conducting 50 experiments, we see the following graph. This would be the equivalent of drawing 50 cards 1 by 1 and replacing them afterwards and counting the number of times any card but an ace was drawn. I started the graph at 35, since below 35 cards has a very small probability, and doesn't actually graph. Given the high probability of success we see a shift to the left of the graph as expected"
   ]
  },
  {
   "cell_type": "code",
   "execution_count": 78,
   "id": "826c37f3-deb5-453d-865b-01381b6bd9b3",
   "metadata": {},
   "outputs": [
    {
     "data": {
      "image/png": "[encoded data removed]",
      "text/plain": [
       "<Figure size 432x288 with 1 Axes>"
      ]
     },
     "metadata": {
      "needs_background": "light"
     },
     "output_type": "display_data"
    }
   ],
   "source": [
    "d = scipy.stats.binom.rvs(50, 0.92, size=100000)\n",
    "\n",
    "fig, ax = plt.subplots(1, 1)\n",
    "ax.hist(d, bins = 15, density=True)\n",
    "plt.tick_params(labelsize = 12)\n",
    "plt.xlim([35,50])\n",
    "\n",
    "plt.show()"
   ]
  },
  {
   "cell_type": "markdown",
   "id": "b269935a-ab35-4da2-b400-37bcbd111157",
   "metadata": {},
   "source": [
    "### &nbsp;&nbsp;&nbsp; C. Hypothetical question"
   ]
  },
  {
   "cell_type": "markdown",
   "id": "7574346d-4f50-4016-9ca2-6de4ce19794f",
   "metadata": {},
   "source": [
    "What is the probability of getting exactly 5 heads if I flip 12 coins?"
   ]
  },
  {
   "cell_type": "markdown",
   "id": "119a4aa7-1ed1-4328-8285-101620727fc4",
   "metadata": {},
   "source": [
    "For this question, p = 0.5, n = 12, and k = 5. Plugging this into the above eqution, we get ~0.1933"
   ]
  },
  {
   "cell_type": "markdown",
   "id": "d9cba2da-f90b-4d73-a6a4-1f95f5e0d441",
   "metadata": {},
   "source": [
    "### &nbsp;&nbsp;&nbsp; D. Implications for Experiments"
   ]
  },
  {
   "cell_type": "markdown",
   "id": "9a0fef0c-c45b-4b8d-aa7b-e417f04461db",
   "metadata": {},
   "source": [
    "This means that we can't hit all sigma values, and thus we might over or under estimate sigma. For example, in a certain experiment, one might need to get a much more unlikely and signal-like signal in order to have a signal that is greater than 5 sigma if the next lowest sigma is below 4.9. This could mean that the signal that one is looking for could be considered statistically insignificant simply because the distribution is discrete and doesn't allow for it to be exaclty 5."
   ]
  },
  {
   "cell_type": "markdown",
   "id": "b3425faa-4ed2-49e3-81e2-3abb7889f671",
   "metadata": {},
   "source": [
    "### &nbsp;&nbsp;&nbsp; E. Parameters"
   ]
  },
  {
   "cell_type": "markdown",
   "id": "2c5d350b-07ee-4a36-a033-84e59d55c33e",
   "metadata": {},
   "source": [
    "It makes sense that a mean can be continuous because the mean simply tells you where the data is centered around. It isn't the most often value we see, only where the values gravitate evenly around. It is allowed to be specific since by it's nature it doesn't need to be a value that can actually happen, but rather it tells you about the data set. Measureable values must be discrete, however calculated values do not have to be."
   ]
  }
 ],
 "metadata": {
  "kernelspec": {
   "display_name": "Python 3",
   "language": "python",
   "name": "python3"
  },
  "language_info": {
   "codemirror_mode": {
    "name": "ipython",
    "version": 3
   },
   "file_extension": ".py",
   "mimetype": "text/x-python",
   "name": "python",
   "nbconvert_exporter": "python",
   "pygments_lexer": "ipython3",
   "version": "3.8.8"
  }
 },
 "nbformat": 4,
 "nbformat_minor": 5
}
