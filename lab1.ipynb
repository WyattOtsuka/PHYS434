{
 "cells": [
  {
   "cell_type": "markdown",
   "id": "540df231-1756-4546-a320-f165b0a9f1c2",
   "metadata": {},
   "source": [
    "# Lab 1 "
   ]
  },
  {
   "cell_type": "code",
   "execution_count": 67,
   "id": "a9f7e6cc-e97d-4c41-8d63-b3eed6c283a8",
   "metadata": {},
   "outputs": [],
   "source": [
    "import scipy.stats"
   ]
  },
  {
   "cell_type": "markdown",
   "id": "b82c861f-4425-4963-acb3-0608a14f7198",
   "metadata": {},
   "source": [
    "## A little statistics"
   ]
  },
  {
   "cell_type": "markdown",
   "id": "0bfc5f06-4d95-4970-a2ec-29846327eb14",
   "metadata": {},
   "source": [
    "### &nbsp;&nbsp;&nbsp;1. Converting a probability into a 'sigma'."
   ]
  },
  {
   "cell_type": "markdown",
   "id": "1efb1b58-8e40-4a58-91e5-19b430474dfe",
   "metadata": {},
   "source": [
    "#### &nbsp;&nbsp;&nbsp;&nbsp;&nbsp;&nbsp; A. Reading (no code needed)"
   ]
  },
  {
   "cell_type": "markdown",
   "id": "315880c2-55ac-4593-838e-9e91e11e0a88",
   "metadata": {},
   "source": [
    "#### &nbsp;&nbsp;&nbsp;&nbsp;&nbsp;&nbsp; B. Integrating the standard normal distribution"
   ]
  },
  {
   "cell_type": "code",
   "execution_count": 68,
   "id": "e2136f8b-35fa-4793-85af-cd4123279415",
   "metadata": {},
   "outputs": [
    {
     "data": {
      "text/plain": [
       "0.5"
      ]
     },
     "execution_count": 68,
     "metadata": {},
     "output_type": "execute_result"
    }
   ],
   "source": [
    "# Integral from -infinity to 0 PDF (Z = 0)\n",
    "scipy.stats.norm.cdf(0)"
   ]
  },
  {
   "cell_type": "code",
   "execution_count": 69,
   "id": "1121ec0c-1183-41b7-9c15-bff7a69dbf1a",
   "metadata": {},
   "outputs": [
    {
     "data": {
      "text/plain": [
       "0.9986501019683699"
      ]
     },
     "execution_count": 69,
     "metadata": {},
     "output_type": "execute_result"
    }
   ],
   "source": [
    "# Integral from -infinity to 3 PDF (Z = 3)\n",
    "scipy.stats.norm.cdf(3)"
   ]
  },
  {
   "cell_type": "code",
   "execution_count": 70,
   "id": "5cc8cdae-ef91-449b-83b3-1602fae80f51",
   "metadata": {},
   "outputs": [
    {
     "data": {
      "text/plain": [
       "0.5"
      ]
     },
     "execution_count": 70,
     "metadata": {},
     "output_type": "execute_result"
    }
   ],
   "source": [
    "# Integral from 0 to infinity PDF (Z = 0)\n",
    "scipy.stats.norm.sf(0)"
   ]
  },
  {
   "cell_type": "code",
   "execution_count": 71,
   "id": "96939b8d-20b4-49aa-ad3a-de253f9734fa",
   "metadata": {},
   "outputs": [
    {
     "data": {
      "text/plain": [
       "0.0013498980316300933"
      ]
     },
     "execution_count": 71,
     "metadata": {},
     "output_type": "execute_result"
    }
   ],
   "source": [
    "# Integral from 3 to infinity of PDF (Z = -3)\n",
    "scipy.stats.norm.sf(3)"
   ]
  },
  {
   "cell_type": "code",
   "execution_count": 72,
   "id": "384a082a-07e9-4bb9-89b1-6171bdfb4e53",
   "metadata": {},
   "outputs": [
    {
     "data": {
      "text/plain": [
       "0.9973002039367398"
      ]
     },
     "execution_count": 72,
     "metadata": {},
     "output_type": "execute_result"
    }
   ],
   "source": [
    "# Integral from -3 to 3 of PDF\n",
    "1 - scipy.stats.norm.cdf(-3) - scipy.stats.norm.sf(3)"
   ]
  },
  {
   "cell_type": "code",
   "execution_count": 73,
   "id": "a0afaf30-a0a3-48b7-915c-d2be073dec28",
   "metadata": {},
   "outputs": [
    {
     "data": {
      "text/plain": [
       "0.0026997960632601866"
      ]
     },
     "execution_count": 73,
     "metadata": {},
     "output_type": "execute_result"
    }
   ],
   "source": [
    "# Integral from -infitity to -3 plus integral from 3 to infinity of PDF\n",
    "scipy.stats.norm.cdf(-3) + scipy.stats.norm.sf(3)"
   ]
  },
  {
   "cell_type": "markdown",
   "id": "a68e02b8-6431-4f16-bc8a-7fb4314e887e",
   "metadata": {},
   "source": [
    "#### &nbsp;&nbsp;&nbsp;&nbsp;&nbsp;&nbsp;C. Determine the associated 'sigma' value"
   ]
  },
  {
   "cell_type": "code",
   "execution_count": 74,
   "id": "60227495-0328-4c45-8561-d763b625f892",
   "metadata": {},
   "outputs": [
    {
     "data": {
      "text/plain": [
       "0.0"
      ]
     },
     "execution_count": 74,
     "metadata": {},
     "output_type": "execute_result"
    }
   ],
   "source": [
    "# Sigma of a probability of 0.5\n",
    "scipy.stats.norm.ppf(0.5)"
   ]
  },
  {
   "cell_type": "code",
   "execution_count": 75,
   "id": "fe7e13fb-8950-408d-85f3-4ccbb8cae503",
   "metadata": {},
   "outputs": [
    {
     "data": {
      "text/plain": [
       "0.9999803859660787"
      ]
     },
     "execution_count": 75,
     "metadata": {},
     "output_type": "execute_result"
    }
   ],
   "source": [
    "# Sigma of a probability of 0.84134 (1 Sigma on Z-Table)\n",
    "scipy.stats.norm.ppf(0.84134)"
   ]
  },
  {
   "cell_type": "code",
   "execution_count": 76,
   "id": "7c5da828-d184-4c55-b9fc-1f76cb94c22e",
   "metadata": {},
   "outputs": [
    {
     "data": {
      "text/plain": [
       "2.0000024438996027"
      ]
     },
     "execution_count": 76,
     "metadata": {},
     "output_type": "execute_result"
    }
   ],
   "source": [
    "# Sigma of a probability of 0.97725 (2 Sigma on Z-Table)\n",
    "scipy.stats.norm.ppf(0.97725)"
   ]
  },
  {
   "cell_type": "code",
   "execution_count": 77,
   "id": "a11ebb7a-679e-4bd8-a1bf-08deb74f08d5",
   "metadata": {},
   "outputs": [
    {
     "data": {
      "text/plain": [
       "4.999999999970176"
      ]
     },
     "execution_count": 77,
     "metadata": {},
     "output_type": "execute_result"
    }
   ],
   "source": [
    "# Sigma of a probability of 0.97725 (5 Sigma on Z-Table)\n",
    "scipy.stats.norm.ppf(0.9999997133484281)"
   ]
  },
  {
   "cell_type": "code",
   "execution_count": 78,
   "id": "1d08cd85-cd56-4f96-ad2c-21a0e0cb0682",
   "metadata": {},
   "outputs": [
    {
     "data": {
      "text/plain": [
       "-5.000000000000001"
      ]
     },
     "execution_count": 78,
     "metadata": {},
     "output_type": "execute_result"
    }
   ],
   "source": [
    "# Sigma of a probability of 0.97725 (-5 Sigma on Z-Table)\n",
    "scipy.stats.norm.ppf(2.866515718791933e-07)"
   ]
  },
  {
   "cell_type": "markdown",
   "id": "ce9f7ce0-fed4-4c2a-8493-4214251aab52",
   "metadata": {},
   "source": [
    "#### &nbsp;&nbsp;&nbsp;&nbsp;&nbsp;&nbsp; D. Explaination of negative Sigma"
   ]
  },
  {
   "cell_type": "markdown",
   "id": "c1a35259-fc57-4293-8260-e240f43996fe",
   "metadata": {},
   "source": [
    "The negative sigma value indicates the endpoint for the integral to get the given area is to the left of the mean. For example, the endpoints of an integral that covers the an area of roughly 2.867e-07 of the PDF would go from -infinity to to -5 Sigma"
   ]
  },
  {
   "cell_type": "markdown",
   "id": "5923d44b-bf38-4dc9-8872-1949069002c4",
   "metadata": {},
   "source": [
    "### &nbsp;&nbsp;&nbsp; 2. Continuous analytic distributions"
   ]
  },
  {
   "cell_type": "code",
   "execution_count": null,
   "id": "8bc9788d-1197-4724-8597-24c26810f360",
   "metadata": {},
   "outputs": [],
   "source": []
  },
  {
   "cell_type": "code",
   "execution_count": null,
   "id": "c8d7726c-5bb8-4930-a831-53c323cc4d11",
   "metadata": {},
   "outputs": [],
   "source": []
  },
  {
   "cell_type": "code",
   "execution_count": null,
   "id": "b1ab4615-4b27-40b1-b3d6-568c039c2897",
   "metadata": {},
   "outputs": [],
   "source": []
  },
  {
   "cell_type": "code",
   "execution_count": null,
   "id": "ba7efcca-8dc9-4295-91b5-7f64c4eb73bf",
   "metadata": {},
   "outputs": [],
   "source": []
  },
  {
   "cell_type": "code",
   "execution_count": null,
   "id": "9f6e5467-bd7b-4a8e-a258-633046ca24f7",
   "metadata": {},
   "outputs": [],
   "source": []
  },
  {
   "cell_type": "markdown",
   "id": "7a56c5fe-8299-4a10-a4d2-efe71a2aa366",
   "metadata": {},
   "source": [
    "## Non-continuous distributions"
   ]
  },
  {
   "cell_type": "code",
   "execution_count": null,
   "id": "6265292e-d7bd-40db-ad1f-9ca88eed26f6",
   "metadata": {},
   "outputs": [],
   "source": []
  },
  {
   "cell_type": "code",
   "execution_count": null,
   "id": "08c26e29-ff04-4fd7-8c66-7c791a933e2b",
   "metadata": {},
   "outputs": [],
   "source": []
  }
 ],
 "metadata": {
  "kernelspec": {
   "display_name": "Python 3",
   "language": "python",
   "name": "python3"
  },
  "language_info": {
   "codemirror_mode": {
    "name": "ipython",
    "version": 3
   },
   "file_extension": ".py",
   "mimetype": "text/x-python",
   "name": "python",
   "nbconvert_exporter": "python",
   "pygments_lexer": "ipython3",
   "version": "3.8.8"
  }
 },
 "nbformat": 4,
 "nbformat_minor": 5
}
